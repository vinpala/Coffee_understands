{
 "cells": [
  {
   "cell_type": "markdown",
   "metadata": {},
   "source": [
    "# Face Recognition \n",
    "Face verification solves an easier 1:1 matching problem; face recognition addresses a harder 1:K matching problem.\n",
    "The triplet loss is an effective loss function for training a neural network to learn an encoding of a face image.\n",
    "The same encoding can be used for verification and recognition. Measuring distances between two images' encodings allows you to determine whether they are pictures of the same person."
   ]
  },
  {
   "cell_type": "markdown",
   "metadata": {},
   "source": [
    "# Import libraries"
   ]
  },
  {
   "cell_type": "code",
   "execution_count": 1,
   "metadata": {},
   "outputs": [
    {
     "name": "stderr",
     "output_type": "stream",
     "text": [
      "C:\\Users\\vinit\\Anaconda3\\envs\\tensorflow\\lib\\site-packages\\h5py\\__init__.py:36: FutureWarning: Conversion of the second argument of issubdtype from `float` to `np.floating` is deprecated. In future, it will be treated as `np.float64 == np.dtype(float).type`.\n",
      "  from ._conv import register_converters as _register_converters\n",
      "Using TensorFlow backend.\n"
     ]
    }
   ],
   "source": [
    "from keras.models import Sequential\n",
    "from keras.layers import Conv2D, ZeroPadding2D, Activation, Input, concatenate\n",
    "from keras.models import Model\n",
    "from keras.layers.normalization import BatchNormalization\n",
    "from keras.layers.pooling import MaxPooling2D, AveragePooling2D\n",
    "from keras.layers.merge import Concatenate\n",
    "from keras.layers.core import Lambda, Flatten, Dense\n",
    "from keras.initializers import glorot_uniform\n",
    "from keras.engine.topology import Layer\n",
    "from keras import backend as K\n",
    "import cv2\n",
    "import os\n",
    "import numpy as np\n",
    "from numpy import genfromtxt\n",
    "import pandas as pd\n",
    "import tensorflow as tf\n",
    "import matplotlib.pyplot as plt"
   ]
  },
  {
   "cell_type": "code",
   "execution_count": 2,
   "metadata": {},
   "outputs": [],
   "source": [
    "%matplotlib inline\n",
    "%load_ext autoreload\n",
    "%autoreload 2"
   ]
  },
  {
   "cell_type": "markdown",
   "metadata": {},
   "source": [
    "We are using a pretrained model as developing one from scratch is not feasible - we need a ton of data to do that "
   ]
  },
  {
   "cell_type": "markdown",
   "metadata": {},
   "source": [
    "# Compile the model"
   ]
  },
  {
   "cell_type": "code",
   "execution_count": 3,
   "metadata": {},
   "outputs": [],
   "source": [
    "from fr_utils import *\n",
    "from inception_blocks_v2 import *\n",
    "#The pretrained model use Inception architecture takes 96x96 RBG images as input and outputs a 128-dimentional encoding.\n",
    "#this uses channel-first convention so we need to tell Keras that.\n",
    "K.set_image_data_format('channels_first')\n",
    "FRmodel = faceRecoModel(input_shape=(3, 96, 96))"
   ]
  },
  {
   "cell_type": "markdown",
   "metadata": {},
   "source": [
    "Triplet_loss formula\n",
    "\n",
    "$$\\mathcal{J} = \\sum^{m}_{i=1} \\large[ \\small \\underbrace{\\mid \\mid f(A^{(i)}) - f(P^{(i)}) \\mid \\mid_2^2}_\\text{(1)} - \\underbrace{\\mid \\mid f(A^{(i)}) - f(N^{(i)}) \\mid \\mid_2^2}_\\text{(2)} + \\alpha \\large ] \\small_+ \\tag{3}$$\n"
   ]
  },
  {
   "cell_type": "code",
   "execution_count": 4,
   "metadata": {},
   "outputs": [],
   "source": [
    "def triplet_loss(y_true, y_pred, alpha = 0.2):\n",
    "    \"\"\"\n",
    "    Calculate the triplet loss according to the FaceNet paper\n",
    "    \n",
    "    Args:\n",
    "      anchor: the embeddings for the anchor images.\n",
    "      positive: the embeddings for the positive images.\n",
    "      negative: the embeddings for the negative images.\n",
    "  \n",
    "    Returns:\n",
    "      the triplet loss according to the FaceNet paper as a float tensor.\n",
    "    \n",
    "    Arguments:\n",
    "    y_true -- true labels, required when you define a loss in Keras, you don't need it in this function.\n",
    "    y_pred -- python list containing three objects:\n",
    "            anchor -- the encodings for the anchor images, of shape (None, 128)\n",
    "            positive -- the encodings for the positive images, of shape (None, 128)\n",
    "            negative -- the encodings for the negative images, of shape (None, 128)\n",
    "    \n",
    "    Returns:\n",
    "    loss -- real number, value of the loss\n",
    "    \"\"\"\n",
    "    \n",
    "    anchor, positive, negative = y_pred[0], y_pred[1], y_pred[2]\n",
    "    \n",
    "    # Step 1: Compute the (encoding) distance between the anchor and the positive, you will need to sum over axis=-1\n",
    "    pos_dist = tf.reduce_sum(tf.square(tf.subtract(anchor, positive)))\n",
    "    # Step 2: Compute the (encoding) distance between the anchor and the negative, you will need to sum over axis=-1\n",
    "    neg_dist = tf.reduce_sum(tf.square(tf.subtract(anchor, negative)))\n",
    "    # Step 3: subtract the two previous distances and add alpha.\n",
    "    basic_loss = tf.add(tf.subtract(pos_dist ,neg_dist), alpha)\n",
    "    # Step 4: Take the maximum of basic_loss and 0.0. Sum over the training examples.\n",
    "    loss = tf.maximum(basic_loss, 0.0)\n",
    "\n",
    "    return loss"
   ]
  },
  {
   "cell_type": "code",
   "execution_count": 5,
   "metadata": {},
   "outputs": [],
   "source": [
    "FRmodel.compile(optimizer = 'adam', loss = triplet_loss, metrics = ['accuracy'])\n",
    "load_weights_from_FaceNet(FRmodel)"
   ]
  },
  {
   "cell_type": "markdown",
   "metadata": {},
   "source": [
    "# Build a custom face recognition dataset\n",
    "\n",
    "https://www.pyimagesearch.com/2018/06/11/how-to-build-a-custom-face-recognition-dataset/\n",
    "    \n",
    "Create a diverse set of images representative of that particular person’s face."
   ]
  },
  {
   "cell_type": "code",
   "execution_count": 6,
   "metadata": {},
   "outputs": [
    {
     "name": "stdout",
     "output_type": "stream",
     "text": [
      "Requirement already satisfied: imutils in c:\\users\\vinit\\anaconda3\\envs\\tensorflow\\lib\\site-packages\n"
     ]
    },
    {
     "name": "stderr",
     "output_type": "stream",
     "text": [
      "You are using pip version 9.0.2, however version 19.0.1 is available.\n",
      "You should consider upgrading via the 'python -m pip install --upgrade pip' command.\n"
     ]
    }
   ],
   "source": [
    "!pip install imutils"
   ]
  },
  {
   "cell_type": "code",
   "execution_count": 6,
   "metadata": {},
   "outputs": [],
   "source": [
    "from imutils.video import VideoStream\n",
    "import imutils\n",
    "import time\n",
    "import cv2\n",
    "import os"
   ]
  },
  {
   "cell_type": "markdown",
   "metadata": {},
   "source": [
    "####  Define Face detector\n",
    "\n",
    "OpenCV ships out-of-the-box with a more accurate face detector (as compared to OpenCV’s Haar cascades).\n",
    "\n",
    "The more accurate OpenCV face detector is deep learning based, and in particular, utilizes the Single Shot Detector (SSD) framework with ResNet as the base network."
   ]
  },
  {
   "cell_type": "code",
   "execution_count": 11,
   "metadata": {},
   "outputs": [
    {
     "name": "stdout",
     "output_type": "stream",
     "text": [
      "[INFO] loading model...\n"
     ]
    }
   ],
   "source": [
    "print(\"[INFO] loading model...\")\n",
    "net = cv2.dnn.readNetFromCaffe('deploy.prototxt.txt', 'res10_300x300_ssd_iter_140000.caffemodel')"
   ]
  },
  {
   "cell_type": "markdown",
   "metadata": {},
   "source": [
    "#### Take pictures "
   ]
  },
  {
   "cell_type": "code",
   "execution_count": 14,
   "metadata": {},
   "outputs": [
    {
     "name": "stdout",
     "output_type": "stream",
     "text": [
      "[INFO] starting video stream...\n"
     ]
    }
   ],
   "source": [
    "# initialize the video stream, allow the camera sensor to warm up,\n",
    "# and initialize the total number of example faces written to disk\n",
    "# thus far\n",
    "print(\"[INFO] starting video stream...\")\n",
    "vs = VideoStream(src=0).start()\n",
    "#Object specifying camera with index zero as the source (in general this would be your laptop’s built in camera or your desktop’s first camera detected).\n",
    "# vs = VideoStream(usePiCamera=True).start()\n",
    "time.sleep(2.0)\n",
    "total = 0"
   ]
  },
  {
   "cell_type": "code",
   "execution_count": null,
   "metadata": {},
   "outputs": [],
   "source": [
    "import traceback\n",
    "# loop over the frames from the video stream\n",
    "while True:\n",
    "    # grab the frame from the threaded video stream and resize it\n",
    "    # to have a maximum width of 400 pixels\n",
    "    frame = vs.read()\n",
    "    frame = imutils.resize(frame, width=400)\n",
    "    \n",
    "    # grab the frame dimensions and convert it to a blob\n",
    "    (h, w) = frame.shape[:2]\n",
    "    blob = cv2.dnn.blobFromImage(cv2.resize(frame, (300, 300)), 1.0, (300, 300), (104.0, 177.0, 123.0))\n",
    "    \n",
    "    # pass the blob through the network and obtain the detections and predictions\n",
    "    net.setInput(blob)\n",
    "    detections = net.forward()\n",
    "    #print(detections)\n",
    "    key = cv2.waitKey(1) & 0xFF\n",
    "    if key == ord(\"q\"):break\n",
    "    # loop over the detections\n",
    "    for i in range(0, detections.shape[2]):\n",
    "    # extract the confidence (i.e., probability) associated with the prediction\n",
    "        confidence = detections[0, 0, i, 2]\n",
    "        #print(\"confidence:\",confidence)\n",
    "    # filter out weak detections by ensuring the `confidence` is\n",
    "    # greater than the minimum confidence\n",
    "        if confidence < 0.5:continue\n",
    "\n",
    "    # compute the (x, y)-coordinates of the bounding box for the object\n",
    "        box = detections[0, 0, i, 3:7] * np.array([w, h, w, h]) \n",
    "        (startX, startY, endX, endY) = box.astype(\"int\")\n",
    "    # draw the bounding box of the face along with the associated probability\n",
    "        text = \"{:.2f}%\".format(confidence * 100)\n",
    "        y = startY - 10 if startY - 10 > 10 else startY + 10\n",
    "        #cv2.rectangle(frame, (startX, startY), (endX, endY),(0, 0, 255), 2)\n",
    "        #cv2.putText(frame, text, (startX, y),cv2.FONT_HERSHEY_SIMPLEX, 0.45, (0, 0, 255), 2)\n",
    "        # show the output frame\n",
    "        cv2.imshow(\"Frame\", frame)\n",
    "        key = cv2.waitKey(1) & 0xFF\n",
    "        if key == ord(\"q\"): break\n",
    "# if the `k` key was pressed, write the *original* frame to disk\n",
    "# so we can later process it and use it for face recognition\n",
    "        #if key == ord(\"k\"):\n",
    "        if total < 10:\n",
    "            try:\n",
    "                face = frame[startY:startY+(endY-startY), startX:startX+(endX-startX)]\n",
    "                rgb = cv2.cvtColor(face, cv2.COLOR_BGR2RGB)\n",
    "                rgb = cv2.resize(rgb, (96, 96)) \n",
    "                p = 'datasets/'+'ramesh/'+\"{}.png\".format(str(total).zfill(5))\n",
    "                cv2.imwrite(p, rgb)\n",
    "                total += 1\n",
    "            except Exception as e:\n",
    "                print(\"Exception !!\",e)\n",
    "                print(traceback.format_exc())\n",
    "        else: \n",
    "            break\n",
    "        time.sleep(0.5)\n",
    "# print the total faces saved and do a bit of cleanup\n",
    "print(\"[INFO] {} face images stored\".format(total))\n",
    "print(\"[INFO] cleaning up...\")\n",
    "\n",
    "cv2.destroyAllWindows()\n",
    "vs.stop()"
   ]
  },
  {
   "cell_type": "code",
   "execution_count": 13,
   "metadata": {},
   "outputs": [],
   "source": [
    "vs.stop()"
   ]
  },
  {
   "cell_type": "markdown",
   "metadata": {},
   "source": [
    "# Face Alignment\n",
    "\n",
    "We want all faces across an entire dataset : \n",
    "\n",
    "- Be centered in the image.\n",
    "- Be rotated that such the eyes lie on a horizontal line (i.e., the face is rotated such that the eyes lie along the same y-coordinates).\n",
    "- Be scaled such that the size of the faces are approximately identical."
   ]
  },
  {
   "cell_type": "code",
   "execution_count": 64,
   "metadata": {},
   "outputs": [],
   "source": [
    "# load the input image and convert it from BGR to RGB\n",
    "image = cv2.imread('datasets/'+'ramesh/'+'00006.png')"
   ]
  },
  {
   "cell_type": "code",
   "execution_count": 65,
   "metadata": {},
   "outputs": [
    {
     "data": {
      "text/plain": [
       "<matplotlib.image.AxesImage at 0x1e781c7d2b0>"
      ]
     },
     "execution_count": 65,
     "metadata": {},
     "output_type": "execute_result"
    },
    {
     "data": {
      "image/png": "[encoded data removed]",
      "text/plain": [
       "<matplotlib.figure.Figure at 0x1e784429e10>"
      ]
     },
     "metadata": {},
     "output_type": "display_data"
    }
   ],
   "source": [
    "plt.imshow(np.array(image))"
   ]
  },
  {
   "cell_type": "markdown",
   "metadata": {},
   "source": [
    "wonder why this was considered a face"
   ]
  },
  {
   "cell_type": "markdown",
   "metadata": {},
   "source": [
    "Thus, face alignment can be seen as a form of “data normalization”. Just as you may normalize a set of feature vectors via zero centering or scaling to unit norm prior to training a machine learning model, it’s very common to align the faces in your dataset before training a face recognizer."
   ]
  },
  {
   "cell_type": "markdown",
   "metadata": {},
   "source": [
    "We will skip this for now "
   ]
  },
  {
   "cell_type": "markdown",
   "metadata": {},
   "source": [
    "# Create database"
   ]
  },
  {
   "cell_type": "code",
   "execution_count": 15,
   "metadata": {},
   "outputs": [],
   "source": [
    "#https://stackoverflow.com/questions/18621513/python-insert-numpy-array-into-sqlite3-database\n",
    "\n",
    "import codecs\n",
    "import sqlite3\n",
    "import numpy as np\n",
    "import io\n",
    "\n",
    "compressor = 'zlib'  # zlib, bz2\n",
    "\n",
    "def adapt_array(arr):\n",
    "    \"\"\"\n",
    "    http://stackoverflow.com/a/31312102/190597 (SoulNibbler)\n",
    "    \"\"\"\n",
    "    # zlib uses similar disk size that Matlab v5 .mat files\n",
    "    # bz2 compress 4 times zlib, but storing process is 20 times slower.\n",
    "    out = io.BytesIO()\n",
    "    np.save(out, arr)\n",
    "    out.seek(0)\n",
    "    #return sqlite3.Binary(out.read().encode(compressor))  # zlib, bz2\n",
    "    return sqlite3.Binary(codecs.encode(out.read(),compressor))\n",
    "\n",
    "def convert_array(text):\n",
    "    out = io.BytesIO(text)\n",
    "    out.seek(0)\n",
    "    #out = io.BytesIO(out.read().decode(compressor))\n",
    "    out = io.BytesIO(codecs.decode(out.read(),compressor))\n",
    "    return np.load(out)\n",
    "\n",
    "# Converts np.array to TEXT when inserting\n",
    "sqlite3.register_adapter(np.ndarray, adapt_array)\n",
    "\n",
    "# Converts TEXT to np.array when selecting\n",
    "sqlite3.register_converter(\"array\", convert_array)\n",
    "\n",
    "\n",
    "con = sqlite3.connect(\"coffee.sqlite\", detect_types=sqlite3.PARSE_DECLTYPES)\n",
    "cur = con.cursor()"
   ]
  },
  {
   "cell_type": "code",
   "execution_count": 16,
   "metadata": {},
   "outputs": [
    {
     "data": {
      "text/plain": [
       "<sqlite3.Cursor at 0x2cd02258260>"
      ]
     },
     "execution_count": 16,
     "metadata": {},
     "output_type": "execute_result"
    }
   ],
   "source": [
    "cur.execute('''CREATE TABLE IF NOT EXISTS Encoding\n",
    "    (id INTEGER, encoding array)''')\n",
    "\n",
    "cur.execute('''CREATE TABLE IF NOT EXISTS Customer\n",
    "    (id INTEGER NOT NULL, name TEXT, personality INTEGER, coffeewhen INTEGER, tastes INTEGER)''')\n",
    "\n",
    "cur.execute('''CREATE TABLE IF NOT EXISTS History\n",
    "    (datetime TEXT PRIMARY KEY, id INTEGER, blend INTEGER, type INTEGER, sweetness INTEGER, cream INTEGER, milk INTEGER, chocholate INTEGER, topping INTEGER, rating INTEGER)''')"
   ]
  },
  {
   "cell_type": "markdown",
   "metadata": {},
   "source": [
    "# Create Encoding "
   ]
  },
  {
   "cell_type": "code",
   "execution_count": 21,
   "metadata": {},
   "outputs": [],
   "source": [
    "import os\n",
    "images = [image for image in os.listdir('datasets/'+'vinitha/') if image.endswith(('.jpeg', '.png'))]"
   ]
  },
  {
   "cell_type": "code",
   "execution_count": 22,
   "metadata": {},
   "outputs": [],
   "source": [
    "import re\n",
    "with open('id.txt', 'r+') as f:\n",
    "    text = f.read()\n",
    "    new_id = int(text) + 1\n",
    "    text = re.sub(text, str(new_id), text)\n",
    "    f.seek(0)\n",
    "    f.write(text)\n",
    "    f.truncate()"
   ]
  },
  {
   "cell_type": "code",
   "execution_count": 23,
   "metadata": {},
   "outputs": [
    {
     "data": {
      "text/plain": [
       "['00000.png',\n",
       " '00001.png',\n",
       " '00002.png',\n",
       " '00003.png',\n",
       " '00004.png',\n",
       " '00005.png',\n",
       " '00006.png',\n",
       " '00007.png',\n",
       " '00008.png',\n",
       " '00009.png']"
      ]
     },
     "execution_count": 23,
     "metadata": {},
     "output_type": "execute_result"
    }
   ],
   "source": [
    "images"
   ]
  },
  {
   "cell_type": "code",
   "execution_count": 24,
   "metadata": {},
   "outputs": [],
   "source": [
    "for image in images: \n",
    "    encoding = img_to_encoding('datasets/'+'vinitha/'+image, FRmodel)\n",
    "    cur.execute(\"insert into Encoding (id, encoding) values (?,?)\", (new_id,encoding))"
   ]
  },
  {
   "cell_type": "code",
   "execution_count": 25,
   "metadata": {},
   "outputs": [],
   "source": [
    "con.commit()"
   ]
  },
  {
   "cell_type": "code",
   "execution_count": 54,
   "metadata": {},
   "outputs": [
    {
     "name": "stdout",
     "output_type": "stream",
     "text": [
      "(4, array([[ 0.15133452,  0.01758699, -0.01629576,  0.02334049,  0.06652068,\n",
      "         0.152939  ,  0.16417569,  0.02444659, -0.08322641, -0.10360485,\n",
      "         0.06392024,  0.0679393 ,  0.14132431, -0.05814672, -0.01908343,\n",
      "        -0.07927726,  0.02079583,  0.01236501, -0.15250322,  0.17512363,\n",
      "         0.14886118, -0.04419495, -0.03947591,  0.1871991 , -0.0446673 ,\n",
      "        -0.1327988 , -0.15276118, -0.11996102,  0.02491185,  0.15696236,\n",
      "        -0.04155017,  0.02384861, -0.08769102,  0.14439635, -0.00944295,\n",
      "        -0.01722821, -0.01801576,  0.09022631, -0.07977448, -0.06789795,\n",
      "         0.02138738, -0.03262819, -0.0116017 , -0.00781083, -0.07158277,\n",
      "        -0.04445732,  0.07916531,  0.01760665, -0.14376989,  0.10334939,\n",
      "        -0.01441013, -0.08264391, -0.01807774,  0.03383616,  0.11094378,\n",
      "         0.0104987 , -0.14439423,  0.17469445, -0.07103664, -0.06804143,\n",
      "        -0.06181538,  0.07185877,  0.14697298, -0.19058445,  0.0225687 ,\n",
      "         0.00618568,  0.0358239 , -0.04697379, -0.22170119, -0.09788137,\n",
      "         0.01587522,  0.00200361, -0.04823404,  0.02835608, -0.0139092 ,\n",
      "         0.04721499,  0.09312256, -0.05811019,  0.10184953,  0.11417761,\n",
      "        -0.03161747, -0.06406778, -0.04764511, -0.09829539, -0.02411987,\n",
      "         0.03512361,  0.02596062, -0.05487303,  0.01225641,  0.11010792,\n",
      "         0.13031742, -0.2111677 , -0.01515821,  0.06156109, -0.09048137,\n",
      "        -0.02545007, -0.00451774, -0.04317943,  0.01877316,  0.01933643,\n",
      "         0.05423743,  0.08149859, -0.06919482,  0.12489338, -0.1682797 ,\n",
      "         0.10854983, -0.06131502,  0.09020631, -0.03398077, -0.05023008,\n",
      "         0.05984456,  0.075391  , -0.10189619,  0.00619118,  0.0116877 ,\n",
      "         0.10445327, -0.07639726,  0.016022  , -0.04171599,  0.16296238,\n",
      "        -0.08694582, -0.04342258, -0.02760641,  0.1039026 ,  0.00696009,\n",
      "         0.08392032,  0.00418526, -0.15921748]], dtype=float32))\n",
      "(4, array([[ 0.15299752,  0.0234625 , -0.0196548 ,  0.01675612,  0.07271839,\n",
      "         0.17158213,  0.17345197,  0.02322557, -0.06151364, -0.10630509,\n",
      "         0.05851238,  0.05165812,  0.14814769, -0.04049736,  0.00373706,\n",
      "        -0.09518407,  0.03000331,  0.02227497, -0.14549816,  0.1371197 ,\n",
      "         0.15242015, -0.02654519, -0.05107045,  0.19696586, -0.03452368,\n",
      "        -0.16359065, -0.15853295, -0.12333877,  0.01596776,  0.17322993,\n",
      "        -0.0176187 ,  0.01660389, -0.08883197,  0.13733564,  0.01131719,\n",
      "        -0.01549806, -0.00314189,  0.05700099, -0.07518739, -0.06311814,\n",
      "         0.03280079, -0.02560261, -0.0101116 , -0.00918215, -0.07346465,\n",
      "        -0.0411555 ,  0.06237501,  0.02635403, -0.12926349,  0.07810638,\n",
      "        -0.01567102, -0.09097959,  0.00931661,  0.02382014,  0.09371932,\n",
      "         0.03247924, -0.14116931,  0.18012285, -0.06024636, -0.06893165,\n",
      "        -0.06735399,  0.08372992,  0.12578285, -0.20610093,  0.01217184,\n",
      "         0.01138263,  0.04981574, -0.0441266 , -0.21646005, -0.10384039,\n",
      "         0.02472213,  0.00080747, -0.05670261, -0.0169217 , -0.01731824,\n",
      "         0.07063615,  0.0765964 , -0.06645267,  0.09907559,  0.11747787,\n",
      "        -0.02816655, -0.05390884, -0.04384141, -0.08553083, -0.0177161 ,\n",
      "         0.05022143,  0.0331286 , -0.0772638 , -0.01449282,  0.11063257,\n",
      "         0.12637156, -0.21550925, -0.00759016,  0.04840024, -0.10287074,\n",
      "        -0.02727962, -0.01814846, -0.04530796,  0.01637325,  0.02895324,\n",
      "         0.07336354,  0.08467116, -0.05584293,  0.1179394 , -0.17669582,\n",
      "         0.09607206, -0.06705172,  0.07298414, -0.06005368, -0.02818364,\n",
      "         0.0666368 ,  0.04184112, -0.10787935, -0.01143472, -0.00648267,\n",
      "         0.12079679, -0.09099804,  0.02239456, -0.0551093 ,  0.15532826,\n",
      "        -0.06926856, -0.05906066, -0.04569449,  0.10611119,  0.00427817,\n",
      "         0.08078261, -0.01722163, -0.14984882]], dtype=float32))\n",
      "(4, array([[ 0.12700519, -0.00528801, -0.03434972, -0.04512364,  0.1148101 ,\n",
      "         0.19394514,  0.19059749, -0.01683894, -0.04516241, -0.08694329,\n",
      "        -0.0289894 ,  0.04867556,  0.10719913,  0.01986725,  0.05552157,\n",
      "        -0.20369264,  0.02691592, -0.00934226, -0.09750339,  0.0973533 ,\n",
      "        -0.00205181,  0.07066744, -0.01546002,  0.08490752, -0.1043421 ,\n",
      "        -0.12556984, -0.13495861, -0.07864249, -0.05073539,  0.08098163,\n",
      "        -0.02520561, -0.00127021, -0.10552534,  0.10432237,  0.07454383,\n",
      "         0.02635549,  0.05007112,  0.07741692, -0.13261072, -0.07518562,\n",
      "         0.09064733,  0.01519036, -0.06939802,  0.00301245, -0.18776949,\n",
      "         0.08186463, -0.00146847,  0.1056456 , -0.08415706,  0.09973631,\n",
      "        -0.07448944, -0.07462656,  0.03004565,  0.0250703 ,  0.09591228,\n",
      "         0.00229539, -0.13718446,  0.18641178, -0.07051623, -0.03855839,\n",
      "        -0.05262472,  0.1297813 ,  0.13022701, -0.19662815,  0.08039653,\n",
      "        -0.01404821,  0.07441323,  0.05134686, -0.15803507,  0.00173311,\n",
      "         0.06214535,  0.00414239,  0.02063389,  0.01545853, -0.06373717,\n",
      "         0.09571923,  0.00449856, -0.08393605,  0.1323075 , -0.01768977,\n",
      "        -0.03024294,  0.00307296, -0.06425277, -0.07954747, -0.0102702 ,\n",
      "        -0.08647902,  0.062333  , -0.01676412, -0.02748774,  0.15776168,\n",
      "         0.18886837, -0.17638747,  0.07037577, -0.00670659, -0.08975085,\n",
      "        -0.07403069,  0.03770567, -0.07778272,  0.04537418,  0.0157158 ,\n",
      "         0.08683589,  0.14201927, -0.04547722,  0.02062886, -0.18637809,\n",
      "         0.04633579, -0.08416723, -0.00143164, -0.09099443,  0.08169542,\n",
      "         0.18451443,  0.05402363, -0.04001127,  0.00833484, -0.0414291 ,\n",
      "         0.06001467, -0.09211712, -0.03474011, -0.05598253,  0.09596351,\n",
      "        -0.02013685, -0.05671754, -0.02231237,  0.11304533,  0.0234507 ,\n",
      "         0.03164012, -0.04228581, -0.16924939]], dtype=float32))\n",
      "(4, array([[ 0.12483395,  0.06384982, -0.01473047, -0.07288534,  0.17499448,\n",
      "         0.21470231,  0.1731834 ,  0.0574304 , -0.13912505, -0.00246047,\n",
      "        -0.00437242,  0.04406736,  0.13730577, -0.01510442,  0.12502247,\n",
      "        -0.12876765,  0.04273276,  0.00980992, -0.09300946,  0.1235568 ,\n",
      "         0.05185672,  0.06825761, -0.01547889,  0.05076932, -0.05458855,\n",
      "        -0.12319913, -0.17715956, -0.08638225,  0.05812115,  0.09510273,\n",
      "        -0.05021466,  0.01822542, -0.10912184,  0.08947566,  0.04238621,\n",
      "         0.01304695,  0.0383917 ,  0.04796839, -0.05225546, -0.0458336 ,\n",
      "         0.11987125,  0.01811624, -0.03274639, -0.01246467, -0.23114006,\n",
      "         0.0703403 ,  0.06535456,  0.05852452, -0.12836786,  0.03906787,\n",
      "        -0.02198155, -0.06047219, -0.07159298,  0.02413133,  0.07104285,\n",
      "        -0.00071092, -0.12149853,  0.16680172, -0.10454388, -0.02162143,\n",
      "        -0.08287887,  0.0789107 ,  0.10520498, -0.2001734 ,  0.10276523,\n",
      "         0.00698818,  0.05267556,  0.05724831, -0.15533367, -0.06460301,\n",
      "         0.10446546,  0.10250106,  0.01210278, -0.01655959, -0.00569217,\n",
      "         0.13177426, -0.0232774 , -0.04195888,  0.13218585,  0.0005233 ,\n",
      "        -0.02435468,  0.01545823,  0.00584831,  0.01385152,  0.00323549,\n",
      "        -0.01150362,  0.09567459,  0.0243776 ,  0.00087857,  0.1110009 ,\n",
      "         0.1232333 , -0.16782166, -0.01744105,  0.04179487, -0.1220495 ,\n",
      "        -0.14089963,  0.03343087, -0.03068293, -0.03521515,  0.01836594,\n",
      "         0.0375854 ,  0.09352461, -0.02469394,  0.06054846, -0.22434743,\n",
      "         0.11705866, -0.07940848,  0.06227703, -0.02554218,  0.01890294,\n",
      "         0.13995667,  0.03556977, -0.08846085,  0.03659927, -0.00843207,\n",
      "         0.04253212, -0.14711353, -0.0219566 , -0.08734719,  0.10974995,\n",
      "        -0.02823227, -0.07220571, -0.01439907,  0.11125498,  0.04770959,\n",
      "         0.06295134, -0.06027612, -0.1320534 ]], dtype=float32))\n",
      "(4, array([[ 1.43065974e-01,  3.09463274e-02,  2.18786374e-02,\n",
      "        -1.82665605e-02,  1.19824886e-01,  1.65639654e-01,\n",
      "         1.45503089e-01,  1.50791667e-02, -1.35301054e-01,\n",
      "         2.49076411e-02, -1.64585025e-03,  7.05172494e-02,\n",
      "         1.34229779e-01,  3.81314047e-02,  1.21124789e-01,\n",
      "        -7.21689388e-02,  9.87064317e-02,  8.59796928e-05,\n",
      "        -3.89413908e-02,  1.27678677e-01,  5.78445867e-02,\n",
      "         4.38665673e-02, -2.16772109e-02,  1.51747555e-01,\n",
      "        -3.55038904e-02, -8.78593028e-02, -1.52326792e-01,\n",
      "        -7.02792108e-02,  6.05510063e-02,  1.47896901e-01,\n",
      "        -6.03354163e-02,  1.00034229e-01, -5.71238063e-02,\n",
      "         1.25905499e-01,  2.99521349e-02,  1.63223334e-02,\n",
      "         5.98574243e-02,  7.86628276e-02, -2.10843049e-02,\n",
      "        -9.75304171e-02,  3.18593681e-02, -1.52811548e-02,\n",
      "        -2.62385071e-03, -1.31158426e-01, -1.21504821e-01,\n",
      "         5.85081093e-02,  6.31220266e-02,  6.17095940e-02,\n",
      "        -1.34582058e-01,  4.70324308e-02,  1.17237298e-02,\n",
      "        -1.09910192e-02,  4.15336899e-02,  2.47975495e-02,\n",
      "         1.36025876e-01,  2.02151146e-02, -7.68986717e-02,\n",
      "         1.38231218e-01, -1.02239273e-01, -3.60228568e-02,\n",
      "        -6.79306611e-02,  9.07903239e-02,  7.78266713e-02,\n",
      "        -2.36557007e-01,  6.55875131e-02,  1.09499581e-01,\n",
      "         2.66065467e-02,  5.41394800e-02, -2.23076195e-01,\n",
      "        -5.77949099e-02,  2.22944655e-02,  4.54085879e-02,\n",
      "        -9.47533250e-02,  6.30058954e-03,  1.68811623e-02,\n",
      "         1.24218225e-01,  8.56286362e-02, -6.69160038e-02,\n",
      "         1.69796884e-01,  2.77540684e-02, -4.10040561e-03,\n",
      "         1.65774357e-02, -1.39118405e-02, -5.66226691e-02,\n",
      "         5.20683192e-02, -6.64568245e-02,  2.56138649e-02,\n",
      "         1.20041482e-02,  3.37640271e-02,  1.71268329e-01,\n",
      "         1.25802800e-01, -1.10491827e-01,  2.34412532e-02,\n",
      "         1.47277296e-01, -1.03029966e-01, -3.35584171e-02,\n",
      "         4.04853672e-02, -2.30802149e-02,  3.85624431e-02,\n",
      "        -1.98019613e-02,  1.26298785e-01,  7.55288899e-02,\n",
      "        -6.72500134e-02,  5.18883131e-02, -2.08157644e-01,\n",
      "         1.16796575e-01, -7.30568171e-02, -5.01759574e-02,\n",
      "         3.61605664e-03, -1.25378612e-02,  9.83912051e-02,\n",
      "         9.26167741e-02, -5.36640286e-02, -2.24588141e-02,\n",
      "         4.80856225e-02,  6.50176182e-02, -1.11149631e-01,\n",
      "        -2.24312264e-02, -9.21959653e-02,  1.52750984e-01,\n",
      "        -4.05865489e-03, -7.69520253e-02,  2.94334311e-02,\n",
      "         6.70343488e-02, -1.25186555e-02,  1.44358948e-01,\n",
      "         3.72455493e-02, -1.74460083e-01]], dtype=float32))\n",
      "(4, array([[ 0.16196232, -0.04119923,  0.00829193,  0.01646509,  0.11949371,\n",
      "         0.18391234,  0.17352343,  0.04145994, -0.0744371 , -0.06688332,\n",
      "         0.02510257,  0.04288431,  0.15480329, -0.00880321,  0.09160823,\n",
      "        -0.11191518,  0.02027328,  0.03589042, -0.10608015,  0.12051366,\n",
      "         0.12552066, -0.01700374, -0.00868642,  0.17156816, -0.01262837,\n",
      "        -0.19297874, -0.18329038, -0.14062642, -0.02279383,  0.15084806,\n",
      "        -0.00210276,  0.00158668, -0.1047001 ,  0.10858921,  0.03456476,\n",
      "        -0.00220029, -0.01005218,  0.03830555, -0.06014039, -0.07601208,\n",
      "         0.0530054 , -0.00439266, -0.05075623, -0.05173282, -0.12191085,\n",
      "        -0.05086756,  0.00668573,  0.04776023, -0.06671087,  0.06527971,\n",
      "        -0.0171432 , -0.12869295,  0.04479845,  0.01818818,  0.06020792,\n",
      "         0.01796345, -0.12155412,  0.1673238 , -0.08067926, -0.03448951,\n",
      "        -0.04998671,  0.09999534,  0.06972521, -0.20691194,  0.03941583,\n",
      "         0.04412721,  0.05493047,  0.01641598, -0.19425996, -0.12414021,\n",
      "         0.04785854,  0.0695323 , -0.04374932, -0.0580772 , -0.0393002 ,\n",
      "         0.10525161,  0.05072146, -0.11332599,  0.13654442,  0.13089973,\n",
      "        -0.0192266 , -0.06256162, -0.03805451, -0.0716418 , -0.00134998,\n",
      "         0.02316294,  0.05776682, -0.02718877, -0.01977465,  0.0885554 ,\n",
      "         0.13356285, -0.16716963,  0.02512818,  0.07897943, -0.1596909 ,\n",
      "        -0.06068045, -0.03111177, -0.06929187,  0.0116092 ,  0.04104796,\n",
      "         0.10966416,  0.04688461, -0.05296552,  0.04573502, -0.143463  ,\n",
      "         0.08687416, -0.05302553,  0.01582066, -0.04514829,  0.01666131,\n",
      "         0.06838868,  0.03384726, -0.06814252, -0.02580816, -0.00737277,\n",
      "         0.1321425 , -0.12983142,  0.07719355, -0.10517594,  0.14352426,\n",
      "        -0.07393064, -0.08616102, -0.0701934 ,  0.10180455,  0.01855425,\n",
      "         0.09783848, -0.04738109, -0.12886395]], dtype=float32))\n",
      "(4, array([[ 0.18786182, -0.02527685, -0.13281198,  0.01139898,  0.08808503,\n",
      "         0.18292977,  0.15392423,  0.01632839, -0.09984298, -0.08295216,\n",
      "         0.03445616,  0.04947417,  0.15506071, -0.04897195, -0.0255171 ,\n",
      "        -0.1019808 ,  0.04602401,  0.03887808, -0.09262379,  0.16703202,\n",
      "         0.13147517, -0.04650634,  0.01734981,  0.13663411, -0.05696155,\n",
      "        -0.12540242, -0.11417788, -0.18787101, -0.03903085,  0.16502824,\n",
      "        -0.07414965,  0.03102043, -0.07997403,  0.12118855,  0.02810256,\n",
      "        -0.01998807, -0.00127398,  0.09261446, -0.10142261, -0.1283771 ,\n",
      "         0.00142067, -0.03803419, -0.04692959,  0.04498968, -0.14750847,\n",
      "         0.00901833,  0.07216261,  0.06756949, -0.13699797,  0.1038625 ,\n",
      "        -0.00378162, -0.08597625,  0.03349575,  0.03322562,  0.11227904,\n",
      "        -0.01645092, -0.07882293,  0.13293524, -0.02644215, -0.11234666,\n",
      "        -0.03274943,  0.06578725,  0.17113954, -0.19441448,  0.04237328,\n",
      "        -0.04201275,  0.02069604,  0.02799557, -0.1492751 , -0.07385287,\n",
      "         0.00279094,  0.00209596, -0.05007966, -0.04665082, -0.07166544,\n",
      "         0.0608987 ,  0.05422124, -0.04752861,  0.09444205,  0.11378592,\n",
      "        -0.04903445, -0.05270939, -0.08292389, -0.12452695, -0.02698303,\n",
      "         0.01414735,  0.02724545, -0.04348163,  0.02743112,  0.10595343,\n",
      "         0.14292985, -0.17646946, -0.03009114,  0.01676631, -0.10405687,\n",
      "        -0.04856178,  0.02675298, -0.00932764,  0.02894046, -0.02779389,\n",
      "         0.12667304,  0.11199634, -0.02283147,  0.08029926, -0.17593187,\n",
      "         0.04194153, -0.08638959,  0.07939945, -0.06305301,  0.01295114,\n",
      "         0.10654736,  0.0688136 , -0.07389485, -0.04201754, -0.0033119 ,\n",
      "         0.11243483, -0.10456914, -0.04069822, -0.04093785,  0.13122271,\n",
      "        -0.08486819, -0.05686171,  0.00283522,  0.11324702,  0.00764879,\n",
      "         0.04628272, -0.00564726, -0.14736786]], dtype=float32))\n",
      "(4, array([[ 1.71542868e-01,  6.70442283e-02, -1.31508663e-01,\n",
      "        -1.35231682e-03,  1.22251458e-01,  1.90367356e-01,\n",
      "         1.36686489e-01,  2.17785146e-02, -9.28532854e-02,\n",
      "        -3.54315788e-02,  4.89426106e-02,  5.24179935e-02,\n",
      "         1.31503358e-01, -2.99012251e-02, -2.34845284e-04,\n",
      "        -1.21968985e-01,  9.80355665e-02,  4.25518043e-02,\n",
      "        -3.87057215e-02,  1.39337510e-01,  1.09643638e-01,\n",
      "         7.02265184e-03, -2.25114543e-03,  1.38297737e-01,\n",
      "        -2.14288924e-02, -1.70092821e-01, -7.77784064e-02,\n",
      "        -1.31561995e-01,  1.77330729e-02,  2.18438596e-01,\n",
      "        -8.59761164e-02, -3.64049301e-02, -2.95307506e-02,\n",
      "         7.78569058e-02,  3.14837955e-02, -3.23351771e-02,\n",
      "         2.50519123e-02,  2.92467903e-02, -9.81893837e-02,\n",
      "        -9.20319185e-02, -4.93796368e-04, -1.56131750e-02,\n",
      "        -2.35240683e-02,  4.22771499e-02, -1.80817306e-01,\n",
      "         6.95836693e-02,  7.88451955e-02,  3.73417251e-02,\n",
      "        -1.35839045e-01,  6.92716986e-02,  3.79480235e-02,\n",
      "         7.67577207e-04,  1.23296855e-02,  7.53460918e-03,\n",
      "         9.39342380e-02,  1.92074813e-02, -8.40830207e-02,\n",
      "         1.07025102e-01, -3.38088162e-02, -8.14975426e-02,\n",
      "        -5.11878319e-02,  3.33830304e-02,  1.44977242e-01,\n",
      "        -2.25575864e-01,  4.94809970e-02, -8.19488466e-02,\n",
      "         2.83063222e-02,  2.54541393e-02, -1.59058005e-01,\n",
      "        -4.99998964e-02,  5.93510009e-02,  2.35526096e-02,\n",
      "        -7.15062544e-02, -1.16641052e-01, -4.05818745e-02,\n",
      "         1.34621873e-01,  3.72805297e-02,  4.41889337e-04,\n",
      "         8.99321586e-02,  9.06514898e-02, -6.98983222e-02,\n",
      "        -5.68992505e-03, -2.45977696e-02, -2.67330613e-02,\n",
      "         4.51656617e-02,  1.51195796e-02,  1.71677358e-02,\n",
      "        -4.70715128e-02,  3.69752124e-02,  1.26771614e-01,\n",
      "         6.92491457e-02, -1.87665224e-01, -5.33168055e-02,\n",
      "         5.34769706e-02, -9.10053328e-02, -1.24826416e-01,\n",
      "         3.38463224e-02, -1.78181231e-02,  1.93382222e-02,\n",
      "        -5.08755967e-02,  1.23116285e-01,  1.51993245e-01,\n",
      "         1.46607319e-02,  6.63441494e-02, -2.46930689e-01,\n",
      "         6.53895065e-02, -5.63978255e-02,  4.98557948e-02,\n",
      "        -6.38707876e-02,  2.44924445e-02,  1.41059756e-01,\n",
      "        -5.29999938e-03, -6.74880370e-02, -2.01327093e-02,\n",
      "        -3.12132463e-02,  9.64376330e-02, -1.42399758e-01,\n",
      "        -4.67946418e-02, -6.32963479e-02,  1.33662537e-01,\n",
      "        -7.33539611e-02, -6.87946752e-02, -4.24225591e-02,\n",
      "         9.25171301e-02,  3.98156010e-02,  8.38127285e-02,\n",
      "         8.63331649e-03, -1.29316419e-01]], dtype=float32))\n",
      "(4, array([[ 0.1944157 ,  0.03773525,  0.01718921,  0.08078808,  0.11246734,\n",
      "         0.2121643 ,  0.1746153 , -0.02997746, -0.01102429, -0.06259702,\n",
      "        -0.0192291 ,  0.02057132,  0.10929368, -0.02813799,  0.07090966,\n",
      "        -0.0590636 ,  0.10475558,  0.03074338, -0.11920024,  0.03397558,\n",
      "         0.06459322,  0.08765674, -0.03766286,  0.14812395, -0.03803785,\n",
      "        -0.18572843, -0.1740871 , -0.11331473, -0.04715364,  0.16373469,\n",
      "        -0.00159063,  0.12009469, -0.10779163,  0.10934701,  0.05583416,\n",
      "        -0.03461371,  0.12385867,  0.00582776, -0.05010556, -0.06158671,\n",
      "         0.08118   ,  0.00124214,  0.02724143, -0.11415793, -0.09573181,\n",
      "        -0.00290321,  0.00270682,  0.02446119, -0.0239029 ,  0.03292523,\n",
      "         0.1348677 , -0.09755298,  0.0773387 ,  0.04055157,  0.07875392,\n",
      "         0.00608213, -0.03209718,  0.0596706 ,  0.05037652, -0.04146229,\n",
      "        -0.04428212,  0.07271618, -0.05327634, -0.28432477,  0.05438436,\n",
      "        -0.02155315,  0.08857901, -0.02420731, -0.17903414, -0.06158408,\n",
      "         0.02129337,  0.03751164, -0.01367494, -0.08134619, -0.05397228,\n",
      "         0.12704621,  0.05917828, -0.0366571 ,  0.05029593,  0.07857618,\n",
      "         0.06377821,  0.01383601,  0.00253022, -0.01798483,  0.09740292,\n",
      "         0.00266031,  0.03490907, -0.07113695, -0.12149307,  0.1299434 ,\n",
      "         0.03817596, -0.15563507,  0.00511671,  0.0358961 , -0.1759011 ,\n",
      "         0.01018269,  0.05271424, -0.05600933,  0.03347122,  0.07778113,\n",
      "         0.14171486,  0.11719629, -0.01616487,  0.13058911, -0.13724722,\n",
      "        -0.05305526, -0.05138675, -0.0187035 , -0.11459033,  0.08838184,\n",
      "         0.03947357, -0.01282397, -0.02422391, -0.03978938, -0.03956253,\n",
      "         0.06923728, -0.15458338,  0.05622734, -0.20216438,  0.05282347,\n",
      "        -0.01375588, -0.01469813,  0.00730771,  0.0422594 ,  0.11228254,\n",
      "         0.05371894, -0.06405988, -0.13938637]], dtype=float32))\n",
      "(4, array([[ 0.12152881,  0.09188916, -0.00754821, -0.02073791,  0.17012234,\n",
      "         0.19851905,  0.15284021,  0.00243269, -0.1408955 , -0.00539372,\n",
      "         0.03108046,  0.05258132,  0.12451024, -0.03498418,  0.06254941,\n",
      "        -0.07347922,  0.0398827 ,  0.04971173, -0.11482266,  0.16455308,\n",
      "         0.08805485, -0.01015937, -0.00895543,  0.034611  , -0.03186841,\n",
      "        -0.0906215 , -0.20718402, -0.08726931,  0.08911348,  0.09539324,\n",
      "        -0.05858948,  0.06634507, -0.09875456,  0.0835895 ,  0.04504749,\n",
      "         0.01103058,  0.01626561,  0.09164783, -0.01051814, -0.10464758,\n",
      "         0.09518647, -0.00328427, -0.01511312, -0.0535416 , -0.20597595,\n",
      "         0.0482948 ,  0.0869605 ,  0.04378006, -0.18170606,  0.02393293,\n",
      "        -0.04551375, -0.02612478, -0.0692684 ,  0.02282738,  0.06807111,\n",
      "        -0.01767778, -0.10949825,  0.1353339 , -0.13040979, -0.03781217,\n",
      "        -0.09157162,  0.06606552,  0.15604332, -0.20463607,  0.12120697,\n",
      "         0.07079078,  0.01567128,  0.04338055, -0.19512427, -0.04559773,\n",
      "         0.08979693,  0.09112324,  0.00312427,  0.01145284,  0.00055983,\n",
      "         0.10140155,  0.01684542, -0.04374754,  0.11354139, -0.00395642,\n",
      "        -0.05272852,  0.02557523, -0.00482582, -0.00285403, -0.00407042,\n",
      "        -0.00694669,  0.05874433,  0.05209554,  0.03919841,  0.12212847,\n",
      "         0.13324927, -0.15849482, -0.02514431,  0.07350485, -0.09485704,\n",
      "        -0.14447714,  0.03736874,  0.00554234, -0.03231512, -0.00511112,\n",
      "         0.03894981,  0.06829289, -0.04761476,  0.07674591, -0.17654426,\n",
      "         0.1618267 , -0.00941886,  0.0960051 ,  0.04252864, -0.0129374 ,\n",
      "         0.08643419,  0.05891459, -0.07814537,  0.05536372,  0.04200795,\n",
      "         0.00958764, -0.17490667,  0.00400979, -0.05314014,  0.11747564,\n",
      "        -0.05044286, -0.06163001,  0.00284121,  0.09429404,  0.06788368,\n",
      "         0.10501289,  0.00968585, -0.15174672]], dtype=float32))\n",
      "(5, array([[ 0.10687086,  0.00083349, -0.0895245 , -0.00322249,  0.11665645,\n",
      "         0.19716425,  0.15155947,  0.01000105, -0.04881765, -0.10639714,\n",
      "         0.0136355 ,  0.05990348,  0.11832324, -0.11279366, -0.00922   ,\n",
      "        -0.1169396 , -0.0356514 ,  0.03511161, -0.13829711,  0.20776117,\n",
      "         0.09780263, -0.03998486, -0.00895711,  0.12661992, -0.07600426,\n",
      "        -0.12515506, -0.18681173, -0.18928254, -0.00303705,  0.0804439 ,\n",
      "        -0.00364387,  0.03237763, -0.0962067 ,  0.10735913,  0.04738649,\n",
      "         0.03423428,  0.01297999,  0.04756866, -0.11486747, -0.09648071,\n",
      "         0.11742558, -0.04847327, -0.04109653,  0.05093182, -0.17239296,\n",
      "        -0.00294519,  0.09689974,  0.07173374, -0.12709306,  0.10779666,\n",
      "        -0.11612199, -0.14427367, -0.0013225 ,  0.02712463,  0.09548589,\n",
      "         0.00738389, -0.13280278,  0.12661345, -0.06815579, -0.08836153,\n",
      "        -0.06489084,  0.11200579,  0.17967735, -0.18216035,  0.05194587,\n",
      "        -0.03572518,  0.06147272, -0.03726761, -0.134023  , -0.08388305,\n",
      "         0.01964391,  0.02083288, -0.00339084,  0.02852396, -0.02651022,\n",
      "         0.04417154, -0.01117593, -0.01445934,  0.09129892,  0.037984  ,\n",
      "        -0.0440389 ,  0.03097051, -0.09889805, -0.06452263, -0.02212509,\n",
      "         0.07360481,  0.04819531, -0.00173724, -0.00079113,  0.09440364,\n",
      "         0.20345391, -0.17618336, -0.0250445 , -0.03009614, -0.09268746,\n",
      "        -0.06686497, -0.00763432, -0.00721358, -0.01062625, -0.00726689,\n",
      "         0.05603185,  0.02360023, -0.02638353,  0.04653998, -0.1591019 ,\n",
      "         0.10353089, -0.0519866 ,  0.10226899, -0.08811226,  0.07688348,\n",
      "         0.08930464,  0.06037157, -0.07135933, -0.0356089 , -0.05378449,\n",
      "         0.05435925, -0.10859629, -0.06344471, -0.04050703,  0.10482082,\n",
      "        -0.04688046, -0.03487633, -0.00408968,  0.14492136, -0.05257219,\n",
      "         0.03933416, -0.05677565, -0.1326718 ]], dtype=float32))\n",
      "(5, array([[ 0.11224739, -0.02887007, -0.0645495 ,  0.00925778,  0.10966263,\n",
      "         0.1989791 ,  0.16029657,  0.02434334, -0.03616541, -0.1347839 ,\n",
      "         0.00222876,  0.05759102,  0.11066289, -0.10471991, -0.00825463,\n",
      "        -0.12329011, -0.03255564,  0.03750038, -0.13395908,  0.19003364,\n",
      "         0.10946047, -0.03940218, -0.01421713,  0.1329716 , -0.07693085,\n",
      "        -0.13897404, -0.19470875, -0.19032358, -0.02998328,  0.07232673,\n",
      "         0.00157495,  0.02700416, -0.09922342,  0.12205617,  0.06195413,\n",
      "         0.02462792,  0.02771144,  0.0433906 , -0.11489231, -0.110978  ,\n",
      "         0.12373929, -0.03820324, -0.03294362,  0.02031686, -0.15297797,\n",
      "        -0.02563692,  0.07493869,  0.05457417, -0.11343813,  0.11221056,\n",
      "        -0.12349049, -0.17403968,  0.03130912,  0.0414488 ,  0.09829348,\n",
      "         0.01788879, -0.11947144,  0.1207496 , -0.07426958, -0.0881758 ,\n",
      "        -0.04985203,  0.12828583,  0.15617222, -0.20161995,  0.05443649,\n",
      "        -0.01605421,  0.05956482, -0.05071794, -0.14261402, -0.09195463,\n",
      "         0.00847145,  0.00404928, -0.01029281,  0.01959386, -0.03937033,\n",
      "         0.049257  ,  0.01042312, -0.03705321,  0.09887727,  0.0356606 ,\n",
      "        -0.05275282,  0.02141711, -0.0935859 , -0.07189853, -0.01348273,\n",
      "         0.06759134,  0.05015999, -0.0006132 , -0.01388436,  0.09783664,\n",
      "         0.21658961, -0.17791831, -0.0064333 , -0.02862069, -0.09269684,\n",
      "        -0.03782516, -0.01015298, -0.0087391 , -0.0114117 ,  0.02165469,\n",
      "         0.06576809,  0.02134639, -0.04059303,  0.04476732, -0.13284606,\n",
      "         0.08958093, -0.04228381,  0.07487816, -0.11623342,  0.07845221,\n",
      "         0.07257124,  0.04593089, -0.05918173, -0.04873117, -0.04890795,\n",
      "         0.06469777, -0.09226693, -0.04691494, -0.05168425,  0.09949024,\n",
      "        -0.05142548, -0.03217043, -0.01018568,  0.13411863, -0.04122434,\n",
      "         0.0412595 , -0.05159805, -0.13824436]], dtype=float32))\n",
      "(5, array([[ 0.11243415,  0.03027108, -0.04512085,  0.01878689,  0.09721231,\n",
      "         0.22045754,  0.16071586,  0.00063198, -0.02639965, -0.10433052,\n",
      "         0.01284087,  0.03678027,  0.10735198, -0.11368516,  0.03204469,\n",
      "        -0.12225591, -0.02121343,  0.05707765, -0.14199987,  0.153977  ,\n",
      "         0.08445709, -0.00837197, -0.03110292,  0.1459067 , -0.05739418,\n",
      "        -0.17733055, -0.20245264, -0.16938919, -0.02006864,  0.09617399,\n",
      "         0.0231693 ,  0.0453174 , -0.10127846,  0.1292242 ,  0.07315094,\n",
      "         0.02167151,  0.04643854,  0.00278542, -0.09180532, -0.08655917,\n",
      "         0.12023761, -0.06770027, -0.01796441,  0.0059796 , -0.14030647,\n",
      "        -0.02695641,  0.07034533,  0.07058671, -0.12334631,  0.10978002,\n",
      "        -0.07959285, -0.15720512,  0.02846438,  0.02008464,  0.06056728,\n",
      "         0.03425122, -0.1433213 ,  0.11027475, -0.06266956, -0.06776115,\n",
      "        -0.07283996,  0.12751044,  0.12791678, -0.2368587 ,  0.04932284,\n",
      "        -0.003075  ,  0.07187849, -0.07709555, -0.19316272, -0.08162542,\n",
      "         0.00646228,  0.00829184, -0.01870795,  0.02016214, -0.03570618,\n",
      "         0.04013934,  0.01913725, -0.04748648,  0.09256306,  0.04275266,\n",
      "        -0.02922345,  0.01694625, -0.09325713, -0.06601862, -0.0026403 ,\n",
      "         0.0720536 ,  0.02666795, -0.04879217, -0.03095771,  0.12552819,\n",
      "         0.19484882, -0.1863062 , -0.00552187, -0.01785738, -0.1001356 ,\n",
      "        -0.02625951, -0.02075332, -0.0211225 , -0.01310573,  0.02867294,\n",
      "         0.07027563,  0.02752675, -0.04472278,  0.05275763, -0.13183597,\n",
      "         0.08711909, -0.03219896,  0.06472789, -0.11233605,  0.09341807,\n",
      "         0.07136487,  0.03101282, -0.05057171, -0.04644797, -0.06451283,\n",
      "         0.04027778, -0.09295869, -0.01622206, -0.04773112,  0.10791788,\n",
      "        -0.02018753, -0.05208446, -0.01745073,  0.1484715 , -0.01184456,\n",
      "         0.03166364, -0.04552813, -0.15336436]], dtype=float32))\n",
      "(5, array([[ 0.10800519,  0.01233733, -0.05128758,  0.0072615 ,  0.10295579,\n",
      "         0.21710126,  0.15859722,  0.01179897, -0.03932767, -0.10550915,\n",
      "         0.00599094,  0.04607487,  0.1094595 , -0.11274321,  0.02626829,\n",
      "        -0.12439144, -0.03686935,  0.04724211, -0.14143606,  0.16421996,\n",
      "         0.08632592, -0.01268246, -0.01863182,  0.15316468, -0.06667887,\n",
      "        -0.16410154, -0.19335309, -0.17798772, -0.01422963,  0.08373813,\n",
      "         0.0158837 ,  0.03165846, -0.10686232,  0.120304  ,  0.06150385,\n",
      "         0.02760905,  0.02475556,  0.00972099, -0.10763531, -0.0751182 ,\n",
      "         0.12151215, -0.05754413, -0.03469798,  0.02527928, -0.15228143,\n",
      "        -0.02251083,  0.07716338,  0.07079914, -0.12254283,  0.11409847,\n",
      "        -0.08863954, -0.16289802,  0.01900382,  0.01744092,  0.06736462,\n",
      "         0.02976155, -0.13695055,  0.1320842 , -0.06112672, -0.07141176,\n",
      "        -0.06945948,  0.13407028,  0.14397444, -0.21283175,  0.04849831,\n",
      "        -0.01520585,  0.07023698, -0.06887307, -0.17580685, -0.07833358,\n",
      "         0.00985483,  0.01934895, -0.00657693,  0.02926409, -0.03060427,\n",
      "         0.04377858,  0.00231796, -0.04217577,  0.09770624,  0.04273352,\n",
      "        -0.02884964,  0.01747295, -0.09414867, -0.06940766, -0.01547116,\n",
      "         0.07173415,  0.03997052, -0.03552451, -0.03207801,  0.11216806,\n",
      "         0.20036994, -0.17849435, -0.00880575, -0.02302207, -0.09757444,\n",
      "        -0.03327688, -0.01984304, -0.01856177, -0.01056746,  0.02309045,\n",
      "         0.06709445,  0.02424618, -0.04150538,  0.04738701, -0.14287525,\n",
      "         0.09014994, -0.04719028,  0.07142679, -0.11097112,  0.0850945 ,\n",
      "         0.08417027,  0.04940769, -0.04935422, -0.04823646, -0.06492377,\n",
      "         0.05602117, -0.0969533 , -0.02465649, -0.04594914,  0.11015574,\n",
      "        -0.02700672, -0.05511848, -0.02132376,  0.14214902, -0.03491041,\n",
      "         0.04023942, -0.06285899, -0.14481018]], dtype=float32))\n",
      "(5, array([[ 0.10741469,  0.00158052, -0.06779637, -0.00905633,  0.08940566,\n",
      "         0.2034662 ,  0.15615302,  0.02207807, -0.03372224, -0.12464176,\n",
      "         0.00507521,  0.05398283,  0.10921659, -0.11404347, -0.0099221 ,\n",
      "        -0.1178946 , -0.04675626,  0.03487357, -0.14202404,  0.17648682,\n",
      "         0.09810688, -0.01607497, -0.02540096,  0.12406081, -0.09254239,\n",
      "        -0.13669348, -0.18300577, -0.18386082, -0.01902104,  0.08717761,\n",
      "        -0.00879555,  0.03571789, -0.08881336,  0.11757352,  0.05975737,\n",
      "         0.01671095,  0.02908886,  0.0401162 , -0.1079041 , -0.0860723 ,\n",
      "         0.11042793, -0.05796647, -0.03587306,  0.02696989, -0.14128186,\n",
      "        -0.01004292,  0.07950558,  0.05429721, -0.14282143,  0.11572893,\n",
      "        -0.11495426, -0.16204366,  0.028395  ,  0.03839289,  0.07640203,\n",
      "         0.0264146 , -0.12943159,  0.12004034, -0.08675408, -0.07878461,\n",
      "        -0.05652215,  0.12608579,  0.1648474 , -0.20100103,  0.05158011,\n",
      "        -0.01929035,  0.06155408, -0.05742776, -0.15952525, -0.09872699,\n",
      "         0.00587924, -0.01233925, -0.01429074,  0.02314023, -0.02907449,\n",
      "         0.05136099,  0.00695628, -0.05272624,  0.0942954 ,  0.0373197 ,\n",
      "        -0.03735428,  0.01544823, -0.10522643, -0.07079246, -0.02200467,\n",
      "         0.07488903,  0.0403587 , -0.02914927, -0.01608507,  0.11530154,\n",
      "         0.20600292, -0.19243161, -0.0214183 , -0.01287073, -0.09106182,\n",
      "        -0.02238548, -0.01104078, -0.01548965, -0.00692951,  0.02499752,\n",
      "         0.07126985,  0.01669719, -0.05531093,  0.04921321, -0.1423373 ,\n",
      "         0.09110991, -0.04579511,  0.08172778, -0.13055803,  0.06917485,\n",
      "         0.08715244,  0.04228392, -0.05816406, -0.0528562 , -0.05834341,\n",
      "         0.0597955 , -0.10390214, -0.03664946, -0.03486526,  0.10020644,\n",
      "        -0.0377662 , -0.04922408, -0.00274831,  0.13642882, -0.02258633,\n",
      "         0.03919541, -0.05166977, -0.15209763]], dtype=float32))\n",
      "(5, array([[ 1.18952975e-01, -1.64618231e-02, -6.24019541e-02,\n",
      "         2.52044853e-02,  9.86660868e-02,  2.07797870e-01,\n",
      "         1.69892669e-01, -1.72500045e-03, -3.99806127e-02,\n",
      "        -1.29962876e-01, -1.92173868e-02,  6.30275682e-02,\n",
      "         1.00661807e-01, -9.55963284e-02,  1.28163816e-03,\n",
      "        -1.35373726e-01,  5.63825015e-03,  5.56197539e-02,\n",
      "        -1.11871198e-01,  1.55140519e-01,  6.85197935e-02,\n",
      "        -4.14595054e-03, -2.88452748e-02,  1.41797498e-01,\n",
      "        -8.74495134e-02, -1.48888290e-01, -1.88550100e-01,\n",
      "        -1.78226769e-01, -5.81151210e-02,  9.17706564e-02,\n",
      "         1.04951418e-04,  6.36845529e-02, -1.03733234e-01,\n",
      "         1.25590622e-01,  7.72164315e-02,  1.10775661e-02,\n",
      "         6.13867380e-02,  1.19453119e-02, -1.07450426e-01,\n",
      "        -1.03476107e-01,  1.23697884e-01, -3.99100818e-02,\n",
      "        -1.46573847e-02, -1.57840142e-03, -1.44868106e-01,\n",
      "        -1.69965401e-02,  6.40140474e-02,  5.66681251e-02,\n",
      "        -1.07261442e-01,  1.15005545e-01, -7.60229975e-02,\n",
      "        -1.80292636e-01,  6.24950491e-02,  3.15421969e-02,\n",
      "         7.83572942e-02,  2.93531399e-02, -1.10616192e-01,\n",
      "         1.14542790e-01, -5.26019819e-02, -6.28161803e-02,\n",
      "        -4.53079082e-02,  1.48106277e-01,  1.19320296e-01,\n",
      "        -2.41033241e-01,  6.24838620e-02, -2.24930346e-02,\n",
      "         6.65515214e-02, -8.44722465e-02, -1.81911796e-01,\n",
      "        -8.92630592e-02, -9.20083746e-03, -1.83847193e-02,\n",
      "        -7.35898037e-03,  2.27816757e-02, -6.39284402e-02,\n",
      "         5.59704676e-02,  3.36934067e-02, -5.47805987e-02,\n",
      "         9.58732516e-02,  2.41263211e-02, -4.07991447e-02,\n",
      "         1.73443966e-02, -9.74168256e-02, -7.51784146e-02,\n",
      "         2.26675882e-03,  3.99163663e-02,  3.31186354e-02,\n",
      "        -4.42956537e-02, -4.61874492e-02,  1.16479322e-01,\n",
      "         1.93970546e-01, -1.65620267e-01,  1.28963236e-02,\n",
      "        -2.31957175e-02, -8.55010077e-02, -2.95759761e-04,\n",
      "         8.04556254e-03, -1.85870100e-02, -8.36285856e-03,\n",
      "         3.96683104e-02,  7.85834789e-02,  4.65545990e-02,\n",
      "        -4.94974144e-02,  6.58395067e-02, -1.23995803e-01,\n",
      "         5.28308228e-02, -3.66899967e-02,  4.23726737e-02,\n",
      "        -1.52319506e-01,  1.12069763e-01,  7.94084817e-02,\n",
      "         2.29177736e-02, -3.26692909e-02, -5.84520362e-02,\n",
      "        -8.21247026e-02,  4.18803059e-02, -7.87309185e-02,\n",
      "        -3.47960740e-02, -5.64150028e-02,  8.94462019e-02,\n",
      "        -3.66075337e-02, -4.45164405e-02, -1.32343620e-02,\n",
      "         1.13632292e-01, -1.07491370e-02,  2.81779487e-02,\n",
      "        -6.69593439e-02, -1.68972597e-01]], dtype=float32))\n",
      "(5, array([[ 0.0388912 ,  0.06029212,  0.08291475, -0.01746161,  0.14343283,\n",
      "         0.08851329,  0.14351836,  0.03011334, -0.14295614, -0.01222781,\n",
      "        -0.03999196, -0.06142222,  0.0490567 ,  0.09873369,  0.18246737,\n",
      "        -0.09816036,  0.09125479, -0.02808125,  0.00051189,  0.09919824,\n",
      "        -0.02691361,  0.01328078,  0.07115198, -0.02510989, -0.0094881 ,\n",
      "        -0.07820303, -0.2213862 , -0.03764346,  0.1505449 , -0.05756607,\n",
      "         0.00919653,  0.04541698, -0.07066498, -0.00378602,  0.06475634,\n",
      "         0.06812049,  0.03371417,  0.18477109, -0.07134134, -0.07573476,\n",
      "         0.10220508,  0.10344656, -0.12975983, -0.14149474, -0.21290262,\n",
      "         0.21529908,  0.0043609 ,  0.03795396, -0.09530029, -0.06272667,\n",
      "        -0.17413937,  0.09147421,  0.01803963, -0.02604889,  0.00756765,\n",
      "        -0.04770526,  0.01809283,  0.09366901, -0.07467578,  0.01216663,\n",
      "        -0.0866649 ,  0.11445393,  0.03616729, -0.15036418,  0.1377471 ,\n",
      "         0.12385598,  0.06967815,  0.08185118, -0.07496757,  0.0177098 ,\n",
      "         0.10405473,  0.0987938 ,  0.01870439,  0.07044905,  0.06144466,\n",
      "         0.08028204, -0.05444018, -0.01061073,  0.12630261, -0.07752594,\n",
      "        -0.08770417,  0.03886729, -0.03725018, -0.02822401,  0.08619842,\n",
      "        -0.06339539,  0.02054049,  0.09484126, -0.0512449 ,  0.03989842,\n",
      "         0.18294923,  0.02371929,  0.06605767, -0.00275307, -0.03051781,\n",
      "        -0.17801231,  0.10150811,  0.03632523,  0.01859654, -0.01752099,\n",
      "        -0.00558437,  0.05274715,  0.01281281, -0.00341767, -0.18791372,\n",
      "         0.12229051,  0.05338584,  0.01614129,  0.19861153,  0.0026791 ,\n",
      "         0.0819255 ,  0.07511717, -0.05167614, -0.01726671,  0.06073136,\n",
      "         0.01516683, -0.14032711, -0.08698794, -0.04435856,  0.07455825,\n",
      "        -0.07841402, -0.02013867, -0.04365176,  0.10428664,  0.01615786,\n",
      "         0.10053376, -0.00824416, -0.09255341]], dtype=float32))\n",
      "(5, array([[ 1.09545276e-01,  1.49027323e-02, -7.32903332e-02,\n",
      "        -2.10561901e-02,  9.63970721e-02,  2.24447981e-01,\n",
      "         1.32402807e-01,  2.19490733e-02, -4.89601679e-02,\n",
      "        -1.11980408e-01,  5.65921841e-03,  5.90493158e-02,\n",
      "         1.25480860e-01, -1.32584423e-01, -1.56825949e-02,\n",
      "        -9.15339366e-02, -4.45435792e-02,  3.85824442e-02,\n",
      "        -1.61876038e-01,  1.90221503e-01,  1.00206941e-01,\n",
      "        -3.61996330e-03,  3.40743968e-03,  1.45450503e-01,\n",
      "        -1.08106315e-01, -1.28390551e-01, -1.68947577e-01,\n",
      "        -1.91733494e-01, -1.80705555e-03,  8.43609199e-02,\n",
      "        -1.11613655e-02,  3.58128883e-02, -9.08537135e-02,\n",
      "         1.21806070e-01,  2.51516812e-02,  1.76818576e-02,\n",
      "         2.16622297e-02,  3.93633805e-02, -1.14072718e-01,\n",
      "        -3.96689996e-02,  1.00035772e-01, -5.64750992e-02,\n",
      "        -4.25065942e-02,  3.29694599e-02, -1.54886857e-01,\n",
      "        -3.18396203e-02,  1.03695445e-01,  6.05196208e-02,\n",
      "        -1.35409370e-01,  1.33702487e-01, -6.74876347e-02,\n",
      "        -1.63970798e-01, -2.82465038e-03,  3.90324034e-02,\n",
      "         6.42209947e-02,  2.24387571e-02, -9.71216932e-02,\n",
      "         1.27836898e-01, -5.73623255e-02, -8.23616013e-02,\n",
      "        -7.26905316e-02,  1.29065692e-01,  1.67848423e-01,\n",
      "        -2.02132061e-01,  4.68961410e-02, -5.72716370e-02,\n",
      "         6.24982417e-02, -6.56206906e-02, -1.61251739e-01,\n",
      "        -8.75893980e-02, -9.69284098e-04,  6.32583816e-03,\n",
      "        -6.08620327e-03,  3.88610400e-02, -1.89557709e-02,\n",
      "         4.62978967e-02, -2.43126811e-03, -2.13779211e-02,\n",
      "         8.52293670e-02,  4.21543047e-02, -1.03978701e-02,\n",
      "         2.39143278e-02, -8.14552307e-02, -5.15064076e-02,\n",
      "        -2.19901409e-02,  9.52736959e-02,  4.74687628e-02,\n",
      "        -2.22697128e-02, -2.51207184e-02,  1.02358572e-01,\n",
      "         1.80664435e-01, -1.93530828e-01, -3.27759571e-02,\n",
      "         1.78732560e-04, -8.99607167e-02, -2.69496031e-02,\n",
      "        -2.21557971e-02,  6.45778794e-03, -1.67257562e-02,\n",
      "         2.86571924e-02,  6.55760765e-02,  1.93364546e-02,\n",
      "        -5.79161793e-02,  8.92784223e-02, -1.40914157e-01,\n",
      "         7.97888264e-02, -6.50324076e-02,  7.77262896e-02,\n",
      "        -1.21442877e-01,  6.68085292e-02,  7.59965330e-02,\n",
      "         7.36159980e-02, -4.40542437e-02, -2.90109795e-02,\n",
      "        -7.73437247e-02,  6.36656880e-02, -1.11538671e-01,\n",
      "        -3.28729078e-02, -5.70305549e-02,  1.05335154e-01,\n",
      "        -3.44610550e-02, -4.89512049e-02,  5.80481160e-03,\n",
      "         1.14112116e-01, -4.01998721e-02,  4.91624549e-02,\n",
      "        -8.51684362e-02, -1.43273652e-01]], dtype=float32))\n",
      "(5, array([[ 0.07180313,  0.03163403,  0.06948669, -0.02213106,  0.17256795,\n",
      "         0.11306312,  0.15085264,  0.02971544, -0.15564936, -0.03570672,\n",
      "        -0.04985851, -0.03865889,  0.06589696,  0.09795091,  0.1655754 ,\n",
      "        -0.0922806 ,  0.08691556, -0.02051967, -0.02775572,  0.11331946,\n",
      "         0.00137205,  0.0141107 ,  0.07804161, -0.01188393, -0.00691105,\n",
      "        -0.07527756, -0.21648459, -0.05255235,  0.12793577, -0.04185262,\n",
      "        -0.00075438,  0.05357117, -0.09157037,  0.01466369,  0.05546372,\n",
      "         0.05827768,  0.01770567,  0.19115375, -0.07408787, -0.09609839,\n",
      "         0.1134093 ,  0.1073689 , -0.10699561, -0.11760534, -0.23070244,\n",
      "         0.18576887,  0.00936853,  0.0391311 , -0.09612674, -0.04650521,\n",
      "        -0.14983496,  0.04206464,  0.0118941 , -0.01362803,  0.03375404,\n",
      "        -0.05670941,  0.0020083 ,  0.13265163, -0.06695502, -0.01298645,\n",
      "        -0.08118894,  0.1108032 ,  0.0546465 , -0.15298997,  0.14425799,\n",
      "         0.11894326,  0.05294216,  0.09534775, -0.08334474,  0.01390524,\n",
      "         0.10311581,  0.11534382,  0.0291272 ,  0.05447469,  0.03695792,\n",
      "         0.08550375, -0.04745094, -0.02715719,  0.12801944, -0.06567419,\n",
      "        -0.0692943 ,  0.03942425, -0.02662832, -0.04472512,  0.06948123,\n",
      "        -0.07820373,  0.04434835,  0.11082973, -0.04667311,  0.04812565,\n",
      "         0.18831775, -0.00460882,  0.04643356, -0.00373636, -0.0462775 ,\n",
      "        -0.16316055,  0.09862088,  0.04095666,  0.01793413, -0.01252968,\n",
      "         0.00156793,  0.0567894 ,  0.01205574,  0.01877625, -0.20179611,\n",
      "         0.1116399 ,  0.01759852,  0.0301755 ,  0.17708825, -0.01288609,\n",
      "         0.09501615,  0.09592617, -0.06171401,  0.0024322 ,  0.0694339 ,\n",
      "         0.02192825, -0.155862  , -0.07226783, -0.06286902,  0.07993253,\n",
      "        -0.07738309, -0.01257472, -0.030245  ,  0.09685676,  0.01576906,\n",
      "         0.09500139, -0.02004835, -0.10481922]], dtype=float32))\n",
      "(5, array([[ 1.04667187e-01,  1.00939609e-02, -9.59310383e-02,\n",
      "        -3.95830907e-02,  1.04083218e-01,  2.21718699e-01,\n",
      "         1.12164944e-01,  1.04263192e-02, -5.02573438e-02,\n",
      "        -1.56586424e-01, -2.29316913e-02,  4.86015938e-02,\n",
      "         9.08971280e-02, -1.25856325e-01, -3.77345979e-02,\n",
      "        -1.04147471e-01, -6.66383505e-02, -1.00639844e-02,\n",
      "        -1.48232132e-01,  1.88957512e-01,  7.51788020e-02,\n",
      "         1.35199046e-02,  4.52572131e-04,  7.30110332e-02,\n",
      "        -1.15920931e-01, -8.33572298e-02, -1.51458889e-01,\n",
      "        -1.82333216e-01, -1.66732930e-02,  4.55849022e-02,\n",
      "        -5.26207453e-03,  2.93912683e-02, -9.59194005e-02,\n",
      "         1.06147371e-01,  4.47238944e-02,  3.52444015e-02,\n",
      "         2.53845304e-02,  5.57985865e-02, -1.16784595e-01,\n",
      "        -6.43812418e-02,  1.18037544e-01, -4.17050943e-02,\n",
      "        -5.11911958e-02,  4.76952158e-02, -1.52187273e-01,\n",
      "         3.95566300e-02,  1.06076062e-01,  6.59165308e-02,\n",
      "        -1.50636122e-01,  1.26515269e-01, -1.24376595e-01,\n",
      "        -1.34832323e-01,  2.64775287e-02,  4.17957790e-02,\n",
      "         7.91919976e-02, -1.28441461e-04, -1.00332133e-01,\n",
      "         1.32777885e-01, -7.34770074e-02, -1.01861857e-01,\n",
      "        -6.51547536e-02,  1.45859107e-01,  1.98885441e-01,\n",
      "        -1.71252877e-01,  5.34998327e-02, -4.60903980e-02,\n",
      "         6.39909059e-02, -2.53850408e-02, -1.11246757e-01,\n",
      "        -7.55978674e-02,  1.17802639e-02, -1.25185046e-02,\n",
      "         1.24480631e-02,  3.74974012e-02, -9.70558915e-03,\n",
      "         4.75486033e-02, -2.97684688e-02, -3.70985195e-02,\n",
      "         7.67323524e-02,  3.26502956e-02,  1.37313048e-03,\n",
      "         4.20352556e-02, -9.36524048e-02, -6.25432357e-02,\n",
      "        -2.82336771e-02,  6.92275092e-02,  4.54159714e-02,\n",
      "         1.03135295e-02, -2.50757262e-02,  1.09502397e-01,\n",
      "         2.22040206e-01, -1.80641651e-01, -4.38780189e-02,\n",
      "        -9.06961877e-03, -7.82632157e-02, -2.19834261e-02,\n",
      "         2.12165099e-02,  3.88793414e-03, -1.07990885e-02,\n",
      "         1.18987113e-02,  4.91916426e-02,  2.72596348e-02,\n",
      "        -5.89591600e-02,  5.65757267e-02, -1.72189921e-01,\n",
      "         8.85783136e-02, -7.27138445e-02,  9.48228762e-02,\n",
      "        -1.36558771e-01,  8.17633718e-02,  1.30622968e-01,\n",
      "         7.23052770e-02, -6.61139786e-02, -2.37512048e-02,\n",
      "        -6.75170422e-02,  5.13744690e-02, -1.39106527e-01,\n",
      "        -5.65510541e-02, -3.06508262e-02,  7.38648847e-02,\n",
      "        -3.48708555e-02, -2.98987981e-02,  4.62363139e-02,\n",
      "         1.05880305e-01, -2.11835243e-02,  3.09152082e-02,\n",
      "        -6.13621399e-02, -1.50363699e-01]], dtype=float32))\n"
     ]
    }
   ],
   "source": [
    "cur1 = con.cursor()\n",
    "cur1.execute('SELECT * FROM Encoding')\n",
    "count = 0\n",
    "for row in cur1:\n",
    "    print(row)\n",
    "    count = count + 1"
   ]
  },
  {
   "cell_type": "code",
   "execution_count": 20,
   "metadata": {},
   "outputs": [
    {
     "data": {
      "text/plain": [
       "array([[ 0.12152881,  0.09188916, -0.00754821, -0.02073791,  0.17012234,\n",
       "         0.19851905,  0.15284021,  0.00243269, -0.1408955 , -0.00539372,\n",
       "         0.03108046,  0.05258132,  0.12451024, -0.03498418,  0.06254941,\n",
       "        -0.07347922,  0.0398827 ,  0.04971173, -0.11482266,  0.16455308,\n",
       "         0.08805485, -0.01015937, -0.00895543,  0.034611  , -0.03186841,\n",
       "        -0.0906215 , -0.20718402, -0.08726931,  0.08911348,  0.09539324,\n",
       "        -0.05858948,  0.06634507, -0.09875456,  0.0835895 ,  0.04504749,\n",
       "         0.01103058,  0.01626561,  0.09164783, -0.01051814, -0.10464758,\n",
       "         0.09518647, -0.00328427, -0.01511312, -0.0535416 , -0.20597595,\n",
       "         0.0482948 ,  0.0869605 ,  0.04378006, -0.18170606,  0.02393293,\n",
       "        -0.04551375, -0.02612478, -0.0692684 ,  0.02282738,  0.06807111,\n",
       "        -0.01767778, -0.10949825,  0.1353339 , -0.13040979, -0.03781217,\n",
       "        -0.09157162,  0.06606552,  0.15604332, -0.20463607,  0.12120697,\n",
       "         0.07079078,  0.01567128,  0.04338055, -0.19512427, -0.04559773,\n",
       "         0.08979693,  0.09112324,  0.00312427,  0.01145284,  0.00055983,\n",
       "         0.10140155,  0.01684542, -0.04374754,  0.11354139, -0.00395642,\n",
       "        -0.05272852,  0.02557523, -0.00482582, -0.00285403, -0.00407042,\n",
       "        -0.00694669,  0.05874433,  0.05209554,  0.03919841,  0.12212847,\n",
       "         0.13324927, -0.15849482, -0.02514431,  0.07350485, -0.09485704,\n",
       "        -0.14447714,  0.03736874,  0.00554234, -0.03231512, -0.00511112,\n",
       "         0.03894981,  0.06829289, -0.04761476,  0.07674591, -0.17654426,\n",
       "         0.1618267 , -0.00941886,  0.0960051 ,  0.04252864, -0.0129374 ,\n",
       "         0.08643419,  0.05891459, -0.07814537,  0.05536372,  0.04200795,\n",
       "         0.00958764, -0.17490667,  0.00400979, -0.05314014,  0.11747564,\n",
       "        -0.05044286, -0.06163001,  0.00284121,  0.09429404,  0.06788368,\n",
       "         0.10501289,  0.00968585, -0.15174672]], dtype=float32)"
      ]
     },
     "execution_count": 20,
     "metadata": {},
     "output_type": "execute_result"
    }
   ],
   "source": [
    "encoding"
   ]
  },
  {
   "cell_type": "markdown",
   "metadata": {},
   "source": [
    "# Who is it?"
   ]
  },
  {
   "cell_type": "code",
   "execution_count": 13,
   "metadata": {},
   "outputs": [
    {
     "data": {
      "text/plain": [
       "<sqlite3.Cursor at 0x1e780ffdd50>"
      ]
     },
     "execution_count": 13,
     "metadata": {},
     "output_type": "execute_result"
    }
   ],
   "source": [
    "cur.execute(\"insert into Customer (id, name, personality, coffeewhen, tastes) values (?,'Vinitha',1,1,1)\", (new_id,))"
   ]
  },
  {
   "cell_type": "code",
   "execution_count": 55,
   "metadata": {},
   "outputs": [
    {
     "data": {
      "text/plain": [
       "<sqlite3.Cursor at 0x1e780ffdd50>"
      ]
     },
     "execution_count": 55,
     "metadata": {},
     "output_type": "execute_result"
    }
   ],
   "source": [
    "cur.execute(\"insert into Customer (id, name, personality, coffeewhen, tastes) values (?,'Ramesh',1,1,1)\", (new_id,))"
   ]
  },
  {
   "cell_type": "code",
   "execution_count": 56,
   "metadata": {},
   "outputs": [
    {
     "data": {
      "text/plain": [
       "<sqlite3.Cursor at 0x1e77f76ff80>"
      ]
     },
     "execution_count": 56,
     "metadata": {},
     "output_type": "execute_result"
    }
   ],
   "source": [
    "cur1 = con.cursor()\n",
    "cur1.execute('SELECT * FROM Customer')"
   ]
  },
  {
   "cell_type": "code",
   "execution_count": 57,
   "metadata": {},
   "outputs": [
    {
     "name": "stdout",
     "output_type": "stream",
     "text": [
      "(4, 'Vinitha', 1, 1, 1)\n",
      "(5, 'Ramesh', 1, 1, 1)\n"
     ]
    }
   ],
   "source": [
    "for row in cur1: print(row)"
   ]
  },
  {
   "cell_type": "code",
   "execution_count": 23,
   "metadata": {},
   "outputs": [],
   "source": [
    "def who_is_it(visitor_encoding):\n",
    "     # Initialize \"min_dist\" to a large value, say 100 (≈1 line)\n",
    "    name = ''\n",
    "    min_dist = 100\n",
    "    cur1 = con.cursor()\n",
    "    cur1.execute('SELECT * FROM Encoding')\n",
    "    for row in cur1:\n",
    "       \n",
    "        # Compute L2 distance between the target \"encoding\" and the current \"emb\" from the database. \n",
    "        dist = np.linalg.norm(encoding - row[1])\n",
    "        print(dist)\n",
    "        \n",
    "        # If this distance is less than the min_dist, then set min_dist to dist, and identity to name. \n",
    "        if dist < min_dist:\n",
    "            min_dist = dist\n",
    "            name_id = row[0]\n",
    "            cur2 = con.cursor()\n",
    "            cur2.execute('SELECT name FROM Customer WHERE id = ? LIMIT 1', (row[0], ))\n",
    "            name  = cur2.fetchone()[0]\n",
    "\n",
    "    if min_dist > 0.7:\n",
    "        print(\"Not in the database.\")\n",
    "        name = ''\n",
    "    return name"
   ]
  },
  {
   "cell_type": "code",
   "execution_count": 59,
   "metadata": {},
   "outputs": [
    {
     "data": {
      "text/plain": [
       "'Vinitha'"
      ]
     },
     "execution_count": 59,
     "metadata": {},
     "output_type": "execute_result"
    }
   ],
   "source": [
    "#Test who is it function\n",
    "#vinitha\n",
    "cur3 = con.cursor()\n",
    "cur3.execute('SELECT encoding FROM Encoding WHERE id = ? LIMIT 1', (4, ))\n",
    "encoding  = cur3.fetchone()[0]\n",
    "who_is_it(encoding)"
   ]
  },
  {
   "cell_type": "code",
   "execution_count": 26,
   "metadata": {},
   "outputs": [
    {
     "name": "stdout",
     "output_type": "stream",
     "text": [
      "(6, array([[ 0.15894651, -0.0233596 , -0.06264205, -0.04629132,  0.18332629,\n",
      "         0.19699748,  0.16236542,  0.04842134, -0.10791622, -0.1000511 ,\n",
      "        -0.02174216,  0.06960098,  0.14443672,  0.00469611,  0.04713164,\n",
      "        -0.12399424,  0.0566527 , -0.01850134, -0.14098547,  0.18331176,\n",
      "         0.06055925,  0.0217477 ,  0.06205758,  0.08051381, -0.07941387,\n",
      "        -0.14193387, -0.16154131, -0.08434856,  0.00660645,  0.04122876,\n",
      "        -0.02267731,  0.02934863, -0.11773886,  0.1338885 , -0.0201929 ,\n",
      "         0.02470309,  0.01219636,  0.09414459, -0.10808303, -0.05451531,\n",
      "         0.10296374,  0.05163701, -0.05377961, -0.02975401, -0.22241008,\n",
      "         0.00095058,  0.0154334 ,  0.09375688, -0.04592092,  0.13261129,\n",
      "        -0.05101121, -0.09193686, -0.05035111,  0.04579085,  0.08362823,\n",
      "        -0.04264473, -0.08106567,  0.18186289, -0.05624176, -0.04281005,\n",
      "        -0.07833765,  0.12747371,  0.12521404, -0.20723663,  0.05291893,\n",
      "        -0.03481057,  0.04532803,  0.06210036, -0.14804684, -0.03415789,\n",
      "         0.06768952,  0.08002408,  0.02741194,  0.05817596, -0.03931193,\n",
      "         0.09022528,  0.03375143, -0.05826272,  0.10735727,  0.02292802,\n",
      "        -0.02138239, -0.02018091, -0.00825293, -0.03676219,  0.0090105 ,\n",
      "        -0.01390742,  0.08200122,  0.05201907, -0.01055307,  0.08162178,\n",
      "         0.17475288, -0.17335641,  0.01265125,  0.01758466, -0.07380041,\n",
      "        -0.10328866,  0.02013532, -0.01598361, -0.0373774 ,  0.02344447,\n",
      "         0.04868337,  0.08210439, -0.04126462,  0.11605727, -0.18182693,\n",
      "         0.07317462, -0.11153832,  0.05578792, -0.02430196,  0.02903914,\n",
      "         0.10280409,  0.09983966, -0.05664623,  0.08818188, -0.0407696 ,\n",
      "         0.06505626, -0.07671186, -0.00905944, -0.07243423,  0.14109589,\n",
      "        -0.06759164, -0.02178293, -0.01717526,  0.10983287, -0.02520106,\n",
      "         0.02199625, -0.08350068, -0.13688508]], dtype=float32))\n",
      "0.53067064\n"
     ]
    },
    {
     "ename": "TypeError",
     "evalue": "'NoneType' object is not subscriptable",
     "output_type": "error",
     "traceback": [
      "\u001b[1;31m---------------------------------------------------------------------------\u001b[0m",
      "\u001b[1;31mTypeError\u001b[0m                                 Traceback (most recent call last)",
      "\u001b[1;32m<ipython-input-26-807cbacdd392>\u001b[0m in \u001b[0;36m<module>\u001b[1;34m()\u001b[0m\n\u001b[0;32m     16\u001b[0m         \u001b[0mcur2\u001b[0m \u001b[1;33m=\u001b[0m \u001b[0mcon\u001b[0m\u001b[1;33m.\u001b[0m\u001b[0mcursor\u001b[0m\u001b[1;33m(\u001b[0m\u001b[1;33m)\u001b[0m\u001b[1;33m\u001b[0m\u001b[0m\n\u001b[0;32m     17\u001b[0m         \u001b[0mcur2\u001b[0m\u001b[1;33m.\u001b[0m\u001b[0mexecute\u001b[0m\u001b[1;33m(\u001b[0m\u001b[1;34m'SELECT name FROM Customer WHERE id = ? LIMIT 1'\u001b[0m\u001b[1;33m,\u001b[0m \u001b[1;33m(\u001b[0m\u001b[0mrow\u001b[0m\u001b[1;33m[\u001b[0m\u001b[1;36m0\u001b[0m\u001b[1;33m]\u001b[0m\u001b[1;33m,\u001b[0m \u001b[1;33m)\u001b[0m\u001b[1;33m)\u001b[0m\u001b[1;33m\u001b[0m\u001b[0m\n\u001b[1;32m---> 18\u001b[1;33m         \u001b[0mname\u001b[0m  \u001b[1;33m=\u001b[0m \u001b[0mcur2\u001b[0m\u001b[1;33m.\u001b[0m\u001b[0mfetchone\u001b[0m\u001b[1;33m(\u001b[0m\u001b[1;33m)\u001b[0m\u001b[1;33m[\u001b[0m\u001b[1;36m0\u001b[0m\u001b[1;33m]\u001b[0m\u001b[1;33m\u001b[0m\u001b[0m\n\u001b[0m\u001b[0;32m     19\u001b[0m         \u001b[0mprint\u001b[0m\u001b[1;33m(\u001b[0m\u001b[0mname\u001b[0m\u001b[1;33m)\u001b[0m\u001b[1;33m\u001b[0m\u001b[0m\n",
      "\u001b[1;31mTypeError\u001b[0m: 'NoneType' object is not subscriptable"
     ]
    }
   ],
   "source": [
    "unknown = np.random.randn(1,128)\n",
    "#who_is_it(unknown)\n",
    "min_dist = 100\n",
    "cur1 = con.cursor()\n",
    "cur1.execute('SELECT * FROM Encoding')\n",
    "for row in cur1:\n",
    "       # Compute L2 distance between the target \"encoding\" and the current \"emb\" from the database. \n",
    "    print(row)\n",
    "    dist = np.linalg.norm(encoding - row[1])\n",
    "    print(dist)\n",
    "        \n",
    "    # If this distance is less than the min_dist, then set min_dist to dist, and identity to name. \n",
    "    if dist < min_dist:\n",
    "        min_dist = dist\n",
    "        name_id = row[0]\n",
    "        cur2 = con.cursor()\n",
    "        cur2.execute('SELECT name FROM Customer WHERE id = ? LIMIT 1', (row[0], ))\n",
    "        name  = cur2.fetchone()[0]\n",
    "        print(name)"
   ]
  },
  {
   "cell_type": "code",
   "execution_count": 60,
   "metadata": {},
   "outputs": [
    {
     "data": {
      "text/plain": [
       "'Ramesh'"
      ]
     },
     "execution_count": 60,
     "metadata": {},
     "output_type": "execute_result"
    }
   ],
   "source": [
    "#vinitha\n",
    "cur3 = con.cursor()\n",
    "cur3.execute('SELECT encoding FROM Encoding WHERE id = ? LIMIT 1', (5, ))\n",
    "encoding  = cur3.fetchone()[0]\n",
    "who_is_it(encoding)"
   ]
  },
  {
   "cell_type": "code",
   "execution_count": 37,
   "metadata": {},
   "outputs": [
    {
     "name": "stdout",
     "output_type": "stream",
     "text": [
      "[INFO] starting video stream...\n"
     ]
    }
   ],
   "source": [
    "# initialize the video stream, allow the camera sensor to warm up,\n",
    "# and initialize the total number of example faces written to disk\n",
    "# thus far\n",
    "print(\"[INFO] starting video stream...\")\n",
    "vs = VideoStream(src=0).start()\n",
    "#Object specifying camera with index zero as the source (in general this would be your laptop’s built in camera or your desktop’s first camera detected).\n",
    "# vs = VideoStream(usePiCamera=True).start()\n",
    "time.sleep(2.0)\n",
    "total = 0"
   ]
  },
  {
   "cell_type": "code",
   "execution_count": null,
   "metadata": {},
   "outputs": [],
   "source": [
    "import traceback\n",
    "found = False\n",
    "name = ''\n",
    "# loop over the frames from the video stream\n",
    "\n",
    "while True:\n",
    "    # grab the frame from the threaded video stream and resize it\n",
    "    # to have a maximum width of 400 pixels\n",
    "    frame = vs.read()\n",
    "    frame = imutils.resize(frame, width=400)\n",
    "    \n",
    "    # grab the frame dimensions and convert it to a blob\n",
    "    (h, w) = frame.shape[:2]\n",
    "    blob = cv2.dnn.blobFromImage(cv2.resize(frame, (300, 300)), 1.0, (300, 300), (104.0, 177.0, 123.0))\n",
    "    \n",
    "    # pass the blob through the network and obtain the detections and predictions\n",
    "    net.setInput(blob)\n",
    "    detections = net.forward()\n",
    "    print(detections)\n",
    "    key = cv2.waitKey(1) & 0xFF\n",
    "    if key == ord(\"q\"):break\n",
    "    # loop over the detections\n",
    "    for i in range(0, detections.shape[2]):\n",
    "    # extract the confidence (i.e., probability) associated with the prediction\n",
    "        confidence = detections[0, 0, i, 2]\n",
    "        print(\"confidence:\",confidence)\n",
    "    # filter out weak detections by ensuring the `confidence` is\n",
    "    # greater than the minimum confidence\n",
    "        if confidence < 0.5:continue\n",
    "\n",
    "    # compute the (x, y)-coordinates of the bounding box for the object\n",
    "        box = detections[0, 0, i, 3:7] * np.array([w, h, w, h]) \n",
    "        (startX, startY, endX, endY) = box.astype(\"int\")\n",
    "    # draw the bounding box of the face along with the associated probability\n",
    "        text = \"{:.2f}%\".format(confidence * 100)\n",
    "        y = startY - 10 if startY - 10 > 10 else startY + 10\n",
    "        #cv2.rectangle(frame, (startX, startY), (endX, endY),(0, 0, 255), 2)\n",
    "        #cv2.putText(frame, text, (startX, y),cv2.FONT_HERSHEY_SIMPLEX, 0.45, (0, 0, 255), 2)\n",
    "        # show the output frame\n",
    "        cv2.imshow(\"Frame\", frame)\n",
    "        key = cv2.waitKey(1) & 0xFF\n",
    "        if key == ord(\"q\"): break\n",
    "# if the `k` key was pressed, write the *original* frame to disk\n",
    "# so we can later process it and use it for face recognition\n",
    "        #if key == ord(\"k\"):\n",
    "        if (total < 10 or not found):\n",
    "            try:\n",
    "                face = frame[startY:startY+(endY-startY), startX:startX+(endX-startX)]\n",
    "                rgb = cv2.cvtColor(face, cv2.COLOR_BGR2RGB)\n",
    "                rgb = cv2.resize(rgb, (96, 96)) \n",
    "                p = 'datasets/'+'visitor/'+\"{}.png\".format(str(total).zfill(5))\n",
    "                cv2.imwrite(p, rgb)\n",
    "                visitor_en = img_to_encoding(p, FRmodel)\n",
    "                name = who_is_it(visitor_en)\n",
    "                if name:\n",
    "                    print(\"Found : \",name)\n",
    "                    break    \n",
    "                total += 1\n",
    "            except Exception as e:\n",
    "                print(\"Exception !!\",e)\n",
    "                print(traceback.format_exc())\n",
    "        else: \n",
    "            print(\"Do not recognize this face\")\n",
    "            break\n",
    "        #time.sleep(1.0)\n",
    "# print the total faces saved and do a bit of cleanup\n",
    "print(\"[INFO] {} face images stored\".format(total))\n",
    "print(\"[INFO] cleaning up...\")\n",
    "\n",
    "cv2.destroyAllWindows()\n",
    "vs.stop()"
   ]
  },
  {
   "cell_type": "code",
   "execution_count": 48,
   "metadata": {},
   "outputs": [],
   "source": [
    "con.commit()"
   ]
  },
  {
   "cell_type": "markdown",
   "metadata": {},
   "source": [
    "# References\n",
    "\n",
    "Andrew Ng \"Coursera Deep Learning Specialization\"\n",
    "\n",
    "Florian Schroff, Dmitry Kalenichenko, James Philbin (2015). FaceNet: A Unified Embedding for Face Recognition and Clustering\n",
    "    \n",
    "Yaniv Taigman, Ming Yang, Marc'Aurelio Ranzato, Lior Wolf (2014). DeepFace: Closing the gap to human-level performance in face verification\n",
    "\n",
    "The pretrained model is inspired by Victor Sy Wang's implementation and was loaded using his code: https://github.com/iwantooxxoox/Keras-OpenFace.\n",
    "\n",
    "Official FaceNet github repository: https://github.com/davidsandberg/facenet\n",
    "\n",
    "https://www.pyimagesearch.com/2018/06/18/face-recognition-with-opencv-python-and-deep-learning/\n",
    "\n",
    "https://medium.com/@ageitgey/machine-learning-is-fun-part-4-modern-face-recognition-with-deep-learning-c3cffc121d78"
   ]
  },
  {
   "cell_type": "code",
   "execution_count": null,
   "metadata": {},
   "outputs": [],
   "source": []
  }
 ],
 "metadata": {
  "kernelspec": {
   "display_name": "Python 3",
   "language": "python",
   "name": "python3"
  },
  "language_info": {
   "codemirror_mode": {
    "name": "ipython",
    "version": 3
   },
   "file_extension": ".py",
   "mimetype": "text/x-python",
   "name": "python",
   "nbconvert_exporter": "python",
   "pygments_lexer": "ipython3",
   "version": "3.6.4"
  },
  "toc": {
   "nav_menu": {},
   "number_sections": true,
   "sideBar": true,
   "skip_h1_title": true,
   "title_cell": "Table of Contents",
   "title_sidebar": "Contents",
   "toc_cell": false,
   "toc_position": {},
   "toc_section_display": true,
   "toc_window_display": false
  }
 },
 "nbformat": 4,
 "nbformat_minor": 2
}
